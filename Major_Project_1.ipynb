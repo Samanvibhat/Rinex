{
  "nbformat": 4,
  "nbformat_minor": 0,
  "metadata": {
    "colab": {
      "name": "Major Project 1.ipynb",
      "provenance": [],
      "collapsed_sections": [],
      "authorship_tag": "ABX9TyOryxMvINQ/I2oLpwDKfVdR",
      "include_colab_link": true
    },
    "kernelspec": {
      "name": "python3",
      "display_name": "Python 3"
    },
    "language_info": {
      "name": "python"
    }
  },
  "cells": [
    {
      "cell_type": "markdown",
      "metadata": {
        "id": "view-in-github",
        "colab_type": "text"
      },
      "source": [
        "<a href=\"https://colab.research.google.com/github/Samanvibhat/Rinex/blob/main/Major_Project_1.ipynb\" target=\"_parent\"><img src=\"https://colab.research.google.com/assets/colab-badge.svg\" alt=\"Open In Colab\"/></a>"
      ]
    },
    {
      "cell_type": "code",
      "execution_count": 1,
      "metadata": {
        "colab": {
          "base_uri": "https://localhost:8080/",
          "height": 424
        },
        "id": "ljwKydBBTVME",
        "outputId": "b2ce2b05-46f1-48ae-f588-3e0173d218b4"
      },
      "outputs": [
        {
          "output_type": "execute_result",
          "data": {
            "text/plain": [
              "     CustomerID   Genre  Age  Annual Income (k$)  Spending Score (1-100)\n",
              "0             1    Male   19                  15                      39\n",
              "1             2    Male   21                  15                      81\n",
              "2             3  Female   20                  16                       6\n",
              "3             4  Female   23                  16                      77\n",
              "4             5  Female   31                  17                      40\n",
              "..          ...     ...  ...                 ...                     ...\n",
              "195         196  Female   35                 120                      79\n",
              "196         197  Female   45                 126                      28\n",
              "197         198    Male   32                 126                      74\n",
              "198         199    Male   32                 137                      18\n",
              "199         200    Male   30                 137                      83\n",
              "\n",
              "[200 rows x 5 columns]"
            ],
            "text/html": [
              "\n",
              "  <div id=\"df-6a7c852d-a2fc-4984-8942-fdc74a53e524\">\n",
              "    <div class=\"colab-df-container\">\n",
              "      <div>\n",
              "<style scoped>\n",
              "    .dataframe tbody tr th:only-of-type {\n",
              "        vertical-align: middle;\n",
              "    }\n",
              "\n",
              "    .dataframe tbody tr th {\n",
              "        vertical-align: top;\n",
              "    }\n",
              "\n",
              "    .dataframe thead th {\n",
              "        text-align: right;\n",
              "    }\n",
              "</style>\n",
              "<table border=\"1\" class=\"dataframe\">\n",
              "  <thead>\n",
              "    <tr style=\"text-align: right;\">\n",
              "      <th></th>\n",
              "      <th>CustomerID</th>\n",
              "      <th>Genre</th>\n",
              "      <th>Age</th>\n",
              "      <th>Annual Income (k$)</th>\n",
              "      <th>Spending Score (1-100)</th>\n",
              "    </tr>\n",
              "  </thead>\n",
              "  <tbody>\n",
              "    <tr>\n",
              "      <th>0</th>\n",
              "      <td>1</td>\n",
              "      <td>Male</td>\n",
              "      <td>19</td>\n",
              "      <td>15</td>\n",
              "      <td>39</td>\n",
              "    </tr>\n",
              "    <tr>\n",
              "      <th>1</th>\n",
              "      <td>2</td>\n",
              "      <td>Male</td>\n",
              "      <td>21</td>\n",
              "      <td>15</td>\n",
              "      <td>81</td>\n",
              "    </tr>\n",
              "    <tr>\n",
              "      <th>2</th>\n",
              "      <td>3</td>\n",
              "      <td>Female</td>\n",
              "      <td>20</td>\n",
              "      <td>16</td>\n",
              "      <td>6</td>\n",
              "    </tr>\n",
              "    <tr>\n",
              "      <th>3</th>\n",
              "      <td>4</td>\n",
              "      <td>Female</td>\n",
              "      <td>23</td>\n",
              "      <td>16</td>\n",
              "      <td>77</td>\n",
              "    </tr>\n",
              "    <tr>\n",
              "      <th>4</th>\n",
              "      <td>5</td>\n",
              "      <td>Female</td>\n",
              "      <td>31</td>\n",
              "      <td>17</td>\n",
              "      <td>40</td>\n",
              "    </tr>\n",
              "    <tr>\n",
              "      <th>...</th>\n",
              "      <td>...</td>\n",
              "      <td>...</td>\n",
              "      <td>...</td>\n",
              "      <td>...</td>\n",
              "      <td>...</td>\n",
              "    </tr>\n",
              "    <tr>\n",
              "      <th>195</th>\n",
              "      <td>196</td>\n",
              "      <td>Female</td>\n",
              "      <td>35</td>\n",
              "      <td>120</td>\n",
              "      <td>79</td>\n",
              "    </tr>\n",
              "    <tr>\n",
              "      <th>196</th>\n",
              "      <td>197</td>\n",
              "      <td>Female</td>\n",
              "      <td>45</td>\n",
              "      <td>126</td>\n",
              "      <td>28</td>\n",
              "    </tr>\n",
              "    <tr>\n",
              "      <th>197</th>\n",
              "      <td>198</td>\n",
              "      <td>Male</td>\n",
              "      <td>32</td>\n",
              "      <td>126</td>\n",
              "      <td>74</td>\n",
              "    </tr>\n",
              "    <tr>\n",
              "      <th>198</th>\n",
              "      <td>199</td>\n",
              "      <td>Male</td>\n",
              "      <td>32</td>\n",
              "      <td>137</td>\n",
              "      <td>18</td>\n",
              "    </tr>\n",
              "    <tr>\n",
              "      <th>199</th>\n",
              "      <td>200</td>\n",
              "      <td>Male</td>\n",
              "      <td>30</td>\n",
              "      <td>137</td>\n",
              "      <td>83</td>\n",
              "    </tr>\n",
              "  </tbody>\n",
              "</table>\n",
              "<p>200 rows × 5 columns</p>\n",
              "</div>\n",
              "      <button class=\"colab-df-convert\" onclick=\"convertToInteractive('df-6a7c852d-a2fc-4984-8942-fdc74a53e524')\"\n",
              "              title=\"Convert this dataframe to an interactive table.\"\n",
              "              style=\"display:none;\">\n",
              "        \n",
              "  <svg xmlns=\"http://www.w3.org/2000/svg\" height=\"24px\"viewBox=\"0 0 24 24\"\n",
              "       width=\"24px\">\n",
              "    <path d=\"M0 0h24v24H0V0z\" fill=\"none\"/>\n",
              "    <path d=\"M18.56 5.44l.94 2.06.94-2.06 2.06-.94-2.06-.94-.94-2.06-.94 2.06-2.06.94zm-11 1L8.5 8.5l.94-2.06 2.06-.94-2.06-.94L8.5 2.5l-.94 2.06-2.06.94zm10 10l.94 2.06.94-2.06 2.06-.94-2.06-.94-.94-2.06-.94 2.06-2.06.94z\"/><path d=\"M17.41 7.96l-1.37-1.37c-.4-.4-.92-.59-1.43-.59-.52 0-1.04.2-1.43.59L10.3 9.45l-7.72 7.72c-.78.78-.78 2.05 0 2.83L4 21.41c.39.39.9.59 1.41.59.51 0 1.02-.2 1.41-.59l7.78-7.78 2.81-2.81c.8-.78.8-2.07 0-2.86zM5.41 20L4 18.59l7.72-7.72 1.47 1.35L5.41 20z\"/>\n",
              "  </svg>\n",
              "      </button>\n",
              "      \n",
              "  <style>\n",
              "    .colab-df-container {\n",
              "      display:flex;\n",
              "      flex-wrap:wrap;\n",
              "      gap: 12px;\n",
              "    }\n",
              "\n",
              "    .colab-df-convert {\n",
              "      background-color: #E8F0FE;\n",
              "      border: none;\n",
              "      border-radius: 50%;\n",
              "      cursor: pointer;\n",
              "      display: none;\n",
              "      fill: #1967D2;\n",
              "      height: 32px;\n",
              "      padding: 0 0 0 0;\n",
              "      width: 32px;\n",
              "    }\n",
              "\n",
              "    .colab-df-convert:hover {\n",
              "      background-color: #E2EBFA;\n",
              "      box-shadow: 0px 1px 2px rgba(60, 64, 67, 0.3), 0px 1px 3px 1px rgba(60, 64, 67, 0.15);\n",
              "      fill: #174EA6;\n",
              "    }\n",
              "\n",
              "    [theme=dark] .colab-df-convert {\n",
              "      background-color: #3B4455;\n",
              "      fill: #D2E3FC;\n",
              "    }\n",
              "\n",
              "    [theme=dark] .colab-df-convert:hover {\n",
              "      background-color: #434B5C;\n",
              "      box-shadow: 0px 1px 3px 1px rgba(0, 0, 0, 0.15);\n",
              "      filter: drop-shadow(0px 1px 2px rgba(0, 0, 0, 0.3));\n",
              "      fill: #FFFFFF;\n",
              "    }\n",
              "  </style>\n",
              "\n",
              "      <script>\n",
              "        const buttonEl =\n",
              "          document.querySelector('#df-6a7c852d-a2fc-4984-8942-fdc74a53e524 button.colab-df-convert');\n",
              "        buttonEl.style.display =\n",
              "          google.colab.kernel.accessAllowed ? 'block' : 'none';\n",
              "\n",
              "        async function convertToInteractive(key) {\n",
              "          const element = document.querySelector('#df-6a7c852d-a2fc-4984-8942-fdc74a53e524');\n",
              "          const dataTable =\n",
              "            await google.colab.kernel.invokeFunction('convertToInteractive',\n",
              "                                                     [key], {});\n",
              "          if (!dataTable) return;\n",
              "\n",
              "          const docLinkHtml = 'Like what you see? Visit the ' +\n",
              "            '<a target=\"_blank\" href=https://colab.research.google.com/notebooks/data_table.ipynb>data table notebook</a>'\n",
              "            + ' to learn more about interactive tables.';\n",
              "          element.innerHTML = '';\n",
              "          dataTable['output_type'] = 'display_data';\n",
              "          await google.colab.output.renderOutput(dataTable, element);\n",
              "          const docLink = document.createElement('div');\n",
              "          docLink.innerHTML = docLinkHtml;\n",
              "          element.appendChild(docLink);\n",
              "        }\n",
              "      </script>\n",
              "    </div>\n",
              "  </div>\n",
              "  "
            ]
          },
          "metadata": {},
          "execution_count": 1
        }
      ],
      "source": [
        "#LOGISTIC REGRESSION TECHNIQUE\n",
        "\n",
        "import pandas as pd\n",
        "df = pd.read_csv('https://raw.githubusercontent.com/ameenmanna8824/DATASETS/main/Mall_Customers.csv')\n",
        "df"
      ]
    },
    {
      "cell_type": "code",
      "source": [
        "df.info()"
      ],
      "metadata": {
        "colab": {
          "base_uri": "https://localhost:8080/"
        },
        "id": "YEg3K4KeX1Ed",
        "outputId": "cd084e6f-b1ec-4737-960a-708026946ed7"
      },
      "execution_count": 12,
      "outputs": [
        {
          "output_type": "stream",
          "name": "stdout",
          "text": [
            "<class 'pandas.core.frame.DataFrame'>\n",
            "RangeIndex: 200 entries, 0 to 199\n",
            "Data columns (total 5 columns):\n",
            " #   Column                  Non-Null Count  Dtype \n",
            "---  ------                  --------------  ----- \n",
            " 0   CustomerID              200 non-null    int64 \n",
            " 1   Genre                   200 non-null    object\n",
            " 2   Age                     200 non-null    int64 \n",
            " 3   Annual Income (k$)      200 non-null    int64 \n",
            " 4   Spending Score (1-100)  200 non-null    int64 \n",
            "dtypes: int64(4), object(1)\n",
            "memory usage: 7.9+ KB\n"
          ]
        }
      ]
    },
    {
      "cell_type": "code",
      "source": [
        "df_a = df.drop(['Genre'],axis = 1) \n",
        "df_a\n",
        "x=df_a.iloc[:,0:4].values\n",
        "x"
      ],
      "metadata": {
        "colab": {
          "base_uri": "https://localhost:8080/"
        },
        "id": "ZIuVXfh_YFMl",
        "outputId": "2c5b8635-d1d1-4309-d89b-bbaf4b6d632a"
      },
      "execution_count": 14,
      "outputs": [
        {
          "output_type": "execute_result",
          "data": {
            "text/plain": [
              "array([[  1,  19,  15,  39],\n",
              "       [  2,  21,  15,  81],\n",
              "       [  3,  20,  16,   6],\n",
              "       [  4,  23,  16,  77],\n",
              "       [  5,  31,  17,  40],\n",
              "       [  6,  22,  17,  76],\n",
              "       [  7,  35,  18,   6],\n",
              "       [  8,  23,  18,  94],\n",
              "       [  9,  64,  19,   3],\n",
              "       [ 10,  30,  19,  72],\n",
              "       [ 11,  67,  19,  14],\n",
              "       [ 12,  35,  19,  99],\n",
              "       [ 13,  58,  20,  15],\n",
              "       [ 14,  24,  20,  77],\n",
              "       [ 15,  37,  20,  13],\n",
              "       [ 16,  22,  20,  79],\n",
              "       [ 17,  35,  21,  35],\n",
              "       [ 18,  20,  21,  66],\n",
              "       [ 19,  52,  23,  29],\n",
              "       [ 20,  35,  23,  98],\n",
              "       [ 21,  35,  24,  35],\n",
              "       [ 22,  25,  24,  73],\n",
              "       [ 23,  46,  25,   5],\n",
              "       [ 24,  31,  25,  73],\n",
              "       [ 25,  54,  28,  14],\n",
              "       [ 26,  29,  28,  82],\n",
              "       [ 27,  45,  28,  32],\n",
              "       [ 28,  35,  28,  61],\n",
              "       [ 29,  40,  29,  31],\n",
              "       [ 30,  23,  29,  87],\n",
              "       [ 31,  60,  30,   4],\n",
              "       [ 32,  21,  30,  73],\n",
              "       [ 33,  53,  33,   4],\n",
              "       [ 34,  18,  33,  92],\n",
              "       [ 35,  49,  33,  14],\n",
              "       [ 36,  21,  33,  81],\n",
              "       [ 37,  42,  34,  17],\n",
              "       [ 38,  30,  34,  73],\n",
              "       [ 39,  36,  37,  26],\n",
              "       [ 40,  20,  37,  75],\n",
              "       [ 41,  65,  38,  35],\n",
              "       [ 42,  24,  38,  92],\n",
              "       [ 43,  48,  39,  36],\n",
              "       [ 44,  31,  39,  61],\n",
              "       [ 45,  49,  39,  28],\n",
              "       [ 46,  24,  39,  65],\n",
              "       [ 47,  50,  40,  55],\n",
              "       [ 48,  27,  40,  47],\n",
              "       [ 49,  29,  40,  42],\n",
              "       [ 50,  31,  40,  42],\n",
              "       [ 51,  49,  42,  52],\n",
              "       [ 52,  33,  42,  60],\n",
              "       [ 53,  31,  43,  54],\n",
              "       [ 54,  59,  43,  60],\n",
              "       [ 55,  50,  43,  45],\n",
              "       [ 56,  47,  43,  41],\n",
              "       [ 57,  51,  44,  50],\n",
              "       [ 58,  69,  44,  46],\n",
              "       [ 59,  27,  46,  51],\n",
              "       [ 60,  53,  46,  46],\n",
              "       [ 61,  70,  46,  56],\n",
              "       [ 62,  19,  46,  55],\n",
              "       [ 63,  67,  47,  52],\n",
              "       [ 64,  54,  47,  59],\n",
              "       [ 65,  63,  48,  51],\n",
              "       [ 66,  18,  48,  59],\n",
              "       [ 67,  43,  48,  50],\n",
              "       [ 68,  68,  48,  48],\n",
              "       [ 69,  19,  48,  59],\n",
              "       [ 70,  32,  48,  47],\n",
              "       [ 71,  70,  49,  55],\n",
              "       [ 72,  47,  49,  42],\n",
              "       [ 73,  60,  50,  49],\n",
              "       [ 74,  60,  50,  56],\n",
              "       [ 75,  59,  54,  47],\n",
              "       [ 76,  26,  54,  54],\n",
              "       [ 77,  45,  54,  53],\n",
              "       [ 78,  40,  54,  48],\n",
              "       [ 79,  23,  54,  52],\n",
              "       [ 80,  49,  54,  42],\n",
              "       [ 81,  57,  54,  51],\n",
              "       [ 82,  38,  54,  55],\n",
              "       [ 83,  67,  54,  41],\n",
              "       [ 84,  46,  54,  44],\n",
              "       [ 85,  21,  54,  57],\n",
              "       [ 86,  48,  54,  46],\n",
              "       [ 87,  55,  57,  58],\n",
              "       [ 88,  22,  57,  55],\n",
              "       [ 89,  34,  58,  60],\n",
              "       [ 90,  50,  58,  46],\n",
              "       [ 91,  68,  59,  55],\n",
              "       [ 92,  18,  59,  41],\n",
              "       [ 93,  48,  60,  49],\n",
              "       [ 94,  40,  60,  40],\n",
              "       [ 95,  32,  60,  42],\n",
              "       [ 96,  24,  60,  52],\n",
              "       [ 97,  47,  60,  47],\n",
              "       [ 98,  27,  60,  50],\n",
              "       [ 99,  48,  61,  42],\n",
              "       [100,  20,  61,  49],\n",
              "       [101,  23,  62,  41],\n",
              "       [102,  49,  62,  48],\n",
              "       [103,  67,  62,  59],\n",
              "       [104,  26,  62,  55],\n",
              "       [105,  49,  62,  56],\n",
              "       [106,  21,  62,  42],\n",
              "       [107,  66,  63,  50],\n",
              "       [108,  54,  63,  46],\n",
              "       [109,  68,  63,  43],\n",
              "       [110,  66,  63,  48],\n",
              "       [111,  65,  63,  52],\n",
              "       [112,  19,  63,  54],\n",
              "       [113,  38,  64,  42],\n",
              "       [114,  19,  64,  46],\n",
              "       [115,  18,  65,  48],\n",
              "       [116,  19,  65,  50],\n",
              "       [117,  63,  65,  43],\n",
              "       [118,  49,  65,  59],\n",
              "       [119,  51,  67,  43],\n",
              "       [120,  50,  67,  57],\n",
              "       [121,  27,  67,  56],\n",
              "       [122,  38,  67,  40],\n",
              "       [123,  40,  69,  58],\n",
              "       [124,  39,  69,  91],\n",
              "       [125,  23,  70,  29],\n",
              "       [126,  31,  70,  77],\n",
              "       [127,  43,  71,  35],\n",
              "       [128,  40,  71,  95],\n",
              "       [129,  59,  71,  11],\n",
              "       [130,  38,  71,  75],\n",
              "       [131,  47,  71,   9],\n",
              "       [132,  39,  71,  75],\n",
              "       [133,  25,  72,  34],\n",
              "       [134,  31,  72,  71],\n",
              "       [135,  20,  73,   5],\n",
              "       [136,  29,  73,  88],\n",
              "       [137,  44,  73,   7],\n",
              "       [138,  32,  73,  73],\n",
              "       [139,  19,  74,  10],\n",
              "       [140,  35,  74,  72],\n",
              "       [141,  57,  75,   5],\n",
              "       [142,  32,  75,  93],\n",
              "       [143,  28,  76,  40],\n",
              "       [144,  32,  76,  87],\n",
              "       [145,  25,  77,  12],\n",
              "       [146,  28,  77,  97],\n",
              "       [147,  48,  77,  36],\n",
              "       [148,  32,  77,  74],\n",
              "       [149,  34,  78,  22],\n",
              "       [150,  34,  78,  90],\n",
              "       [151,  43,  78,  17],\n",
              "       [152,  39,  78,  88],\n",
              "       [153,  44,  78,  20],\n",
              "       [154,  38,  78,  76],\n",
              "       [155,  47,  78,  16],\n",
              "       [156,  27,  78,  89],\n",
              "       [157,  37,  78,   1],\n",
              "       [158,  30,  78,  78],\n",
              "       [159,  34,  78,   1],\n",
              "       [160,  30,  78,  73],\n",
              "       [161,  56,  79,  35],\n",
              "       [162,  29,  79,  83],\n",
              "       [163,  19,  81,   5],\n",
              "       [164,  31,  81,  93],\n",
              "       [165,  50,  85,  26],\n",
              "       [166,  36,  85,  75],\n",
              "       [167,  42,  86,  20],\n",
              "       [168,  33,  86,  95],\n",
              "       [169,  36,  87,  27],\n",
              "       [170,  32,  87,  63],\n",
              "       [171,  40,  87,  13],\n",
              "       [172,  28,  87,  75],\n",
              "       [173,  36,  87,  10],\n",
              "       [174,  36,  87,  92],\n",
              "       [175,  52,  88,  13],\n",
              "       [176,  30,  88,  86],\n",
              "       [177,  58,  88,  15],\n",
              "       [178,  27,  88,  69],\n",
              "       [179,  59,  93,  14],\n",
              "       [180,  35,  93,  90],\n",
              "       [181,  37,  97,  32],\n",
              "       [182,  32,  97,  86],\n",
              "       [183,  46,  98,  15],\n",
              "       [184,  29,  98,  88],\n",
              "       [185,  41,  99,  39],\n",
              "       [186,  30,  99,  97],\n",
              "       [187,  54, 101,  24],\n",
              "       [188,  28, 101,  68],\n",
              "       [189,  41, 103,  17],\n",
              "       [190,  36, 103,  85],\n",
              "       [191,  34, 103,  23],\n",
              "       [192,  32, 103,  69],\n",
              "       [193,  33, 113,   8],\n",
              "       [194,  38, 113,  91],\n",
              "       [195,  47, 120,  16],\n",
              "       [196,  35, 120,  79],\n",
              "       [197,  45, 126,  28],\n",
              "       [198,  32, 126,  74],\n",
              "       [199,  32, 137,  18],\n",
              "       [200,  30, 137,  83]])"
            ]
          },
          "metadata": {},
          "execution_count": 14
        }
      ]
    },
    {
      "cell_type": "code",
      "source": [
        "df_a.info()\n",
        "y = df_a.iloc[:,3].values\n",
        "y"
      ],
      "metadata": {
        "colab": {
          "base_uri": "https://localhost:8080/"
        },
        "id": "cT7emZvZYw5N",
        "outputId": "eceaba19-dd03-4478-d6a9-8ee0cedc379f"
      },
      "execution_count": 17,
      "outputs": [
        {
          "output_type": "stream",
          "name": "stdout",
          "text": [
            "<class 'pandas.core.frame.DataFrame'>\n",
            "RangeIndex: 200 entries, 0 to 199\n",
            "Data columns (total 4 columns):\n",
            " #   Column                  Non-Null Count  Dtype\n",
            "---  ------                  --------------  -----\n",
            " 0   CustomerID              200 non-null    int64\n",
            " 1   Age                     200 non-null    int64\n",
            " 2   Annual Income (k$)      200 non-null    int64\n",
            " 3   Spending Score (1-100)  200 non-null    int64\n",
            "dtypes: int64(4)\n",
            "memory usage: 6.4 KB\n"
          ]
        },
        {
          "output_type": "execute_result",
          "data": {
            "text/plain": [
              "array([39, 81,  6, 77, 40, 76,  6, 94,  3, 72, 14, 99, 15, 77, 13, 79, 35,\n",
              "       66, 29, 98, 35, 73,  5, 73, 14, 82, 32, 61, 31, 87,  4, 73,  4, 92,\n",
              "       14, 81, 17, 73, 26, 75, 35, 92, 36, 61, 28, 65, 55, 47, 42, 42, 52,\n",
              "       60, 54, 60, 45, 41, 50, 46, 51, 46, 56, 55, 52, 59, 51, 59, 50, 48,\n",
              "       59, 47, 55, 42, 49, 56, 47, 54, 53, 48, 52, 42, 51, 55, 41, 44, 57,\n",
              "       46, 58, 55, 60, 46, 55, 41, 49, 40, 42, 52, 47, 50, 42, 49, 41, 48,\n",
              "       59, 55, 56, 42, 50, 46, 43, 48, 52, 54, 42, 46, 48, 50, 43, 59, 43,\n",
              "       57, 56, 40, 58, 91, 29, 77, 35, 95, 11, 75,  9, 75, 34, 71,  5, 88,\n",
              "        7, 73, 10, 72,  5, 93, 40, 87, 12, 97, 36, 74, 22, 90, 17, 88, 20,\n",
              "       76, 16, 89,  1, 78,  1, 73, 35, 83,  5, 93, 26, 75, 20, 95, 27, 63,\n",
              "       13, 75, 10, 92, 13, 86, 15, 69, 14, 90, 32, 86, 15, 88, 39, 97, 24,\n",
              "       68, 17, 85, 23, 69,  8, 91, 16, 79, 28, 74, 18, 83])"
            ]
          },
          "metadata": {},
          "execution_count": 17
        }
      ]
    },
    {
      "cell_type": "code",
      "source": [
        "from sklearn.model_selection import train_test_split\n",
        "x_train,x_test,y_train,y_test = train_test_split(x,y,test_size = 0.2,random_state = 0)"
      ],
      "metadata": {
        "id": "xyLe8xTMY5Cd"
      },
      "execution_count": 18,
      "outputs": []
    },
    {
      "cell_type": "code",
      "source": [
        "from sklearn.linear_model import LogisticRegression\n",
        "model = LogisticRegression()"
      ],
      "metadata": {
        "id": "8UCuxWMQY-2K"
      },
      "execution_count": 19,
      "outputs": []
    },
    {
      "cell_type": "code",
      "source": [
        "model.fit(x_train,y_train)"
      ],
      "metadata": {
        "colab": {
          "base_uri": "https://localhost:8080/"
        },
        "id": "xmy3N0nSZCmh",
        "outputId": "f74347be-9819-471a-ce35-d996b1f11e4a"
      },
      "execution_count": 20,
      "outputs": [
        {
          "output_type": "stream",
          "name": "stderr",
          "text": [
            "/usr/local/lib/python3.7/dist-packages/sklearn/linear_model/_logistic.py:818: ConvergenceWarning: lbfgs failed to converge (status=1):\n",
            "STOP: TOTAL NO. of ITERATIONS REACHED LIMIT.\n",
            "\n",
            "Increase the number of iterations (max_iter) or scale the data as shown in:\n",
            "    https://scikit-learn.org/stable/modules/preprocessing.html\n",
            "Please also refer to the documentation for alternative solver options:\n",
            "    https://scikit-learn.org/stable/modules/linear_model.html#logistic-regression\n",
            "  extra_warning_msg=_LOGISTIC_SOLVER_CONVERGENCE_MSG,\n"
          ]
        },
        {
          "output_type": "execute_result",
          "data": {
            "text/plain": [
              "LogisticRegression()"
            ]
          },
          "metadata": {},
          "execution_count": 20
        }
      ]
    },
    {
      "cell_type": "code",
      "source": [
        "y_pred = model.predict(x_test)\n",
        "y_pred"
      ],
      "metadata": {
        "colab": {
          "base_uri": "https://localhost:8080/"
        },
        "id": "Yx4aw1gDaaqL",
        "outputId": "6945bbff-57d4-4c64-b69f-8c7ed720b92a"
      },
      "execution_count": 21,
      "outputs": [
        {
          "output_type": "execute_result",
          "data": {
            "text/plain": [
              "array([32, 10, 48, 46, 63,  5, 77, 35, 14, 24, 79, 75, 27, 15, 46, 81, 81,\n",
              "       13, 73, 46, 83, 93, 60, 78, 55, 73, 75, 83, 55, 26, 32, 46, 24, 83,\n",
              "        4, 74, 75, 32, 46, 43])"
            ]
          },
          "metadata": {},
          "execution_count": 21
        }
      ]
    },
    {
      "cell_type": "code",
      "source": [
        "y_test"
      ],
      "metadata": {
        "colab": {
          "base_uri": "https://localhost:8080/"
        },
        "id": "SU-7d3brag9A",
        "outputId": "663e2621-cf8e-4f17-c0e8-0e63df38d994"
      },
      "execution_count": 22,
      "outputs": [
        {
          "output_type": "execute_result",
          "data": {
            "text/plain": [
              "array([29, 13, 46, 42, 69, 15, 76, 36, 15, 20, 55, 77, 32, 16, 51, 94, 92,\n",
              "        9, 73, 47, 88, 97, 65, 73, 56, 91, 90, 97, 58, 28, 35, 41, 17, 54,\n",
              "        5, 85, 75, 40, 44, 50])"
            ]
          },
          "metadata": {},
          "execution_count": 22
        }
      ]
    },
    {
      "cell_type": "code",
      "source": [
        "model.predict([[54,23,113,19]])"
      ],
      "metadata": {
        "colab": {
          "base_uri": "https://localhost:8080/"
        },
        "id": "iAJFNpaPaoWr",
        "outputId": "2933ade4-0efa-45b7-af83-0305cbf86627"
      },
      "execution_count": 23,
      "outputs": [
        {
          "output_type": "execute_result",
          "data": {
            "text/plain": [
              "array([28])"
            ]
          },
          "metadata": {},
          "execution_count": 23
        }
      ]
    }
  ]
}